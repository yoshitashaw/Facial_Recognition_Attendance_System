{
 "cells": [
  {
   "cell_type": "code",
   "execution_count": null,
   "id": "e983071e",
   "metadata": {},
   "outputs": [],
   "source": [
    "from platform import python_version\n",
    "print (python_version())"
   ]
  },
  {
   "cell_type": "code",
   "execution_count": null,
   "id": "031e8b9e",
   "metadata": {},
   "outputs": [],
   "source": [
    "pip install cmake"
   ]
  },
  {
   "cell_type": "code",
   "execution_count": null,
   "id": "56546e85",
   "metadata": {},
   "outputs": [],
   "source": [
    "%%cmd\n",
    "python --version"
   ]
  },
  {
   "cell_type": "code",
   "execution_count": null,
   "id": "2b048115",
   "metadata": {
    "scrolled": true
   },
   "outputs": [],
   "source": [
    "%%cmd\n",
    "pip install \"C:\\Users\\Yoshita\\Downloads\\dlib-python whl packages\\dlib-python whl packages\\dlib-19.22.99-cp39-cp39-win_amd64.whl\""
   ]
  },
  {
   "cell_type": "code",
   "execution_count": null,
   "id": "1a11f9c4",
   "metadata": {},
   "outputs": [],
   "source": [
    "pip install opencv-python"
   ]
  },
  {
   "cell_type": "code",
   "execution_count": null,
   "id": "de9eec63",
   "metadata": {},
   "outputs": [],
   "source": [
    "%%cmd\n",
    "where python"
   ]
  },
  {
   "cell_type": "code",
   "execution_count": null,
   "id": "7c2ea1af",
   "metadata": {},
   "outputs": [],
   "source": [
    "pip install face_recognition"
   ]
  },
  {
   "cell_type": "code",
   "execution_count": 1,
   "id": "83514b9a",
   "metadata": {},
   "outputs": [
    {
     "name": "stdout",
     "output_type": "stream",
     "text": [
      "1.2.3\n",
      "19.22.99\n"
     ]
    }
   ],
   "source": [
    "import face_recognition\n",
    "import dlib\n",
    "\n",
    "print(face_recognition.__version__)\n",
    "print(dlib.__version__)  "
   ]
  },
  {
   "cell_type": "code",
   "execution_count": 2,
   "id": "2571068a",
   "metadata": {},
   "outputs": [],
   "source": [
    "import face_recognition\n",
    "import cv2\n",
    "import numpy as np\n",
    "import csv\n",
    "import os\n",
    "from datetime import datetime"
   ]
  },
  {
   "cell_type": "code",
   "execution_count": 3,
   "id": "668a3a21",
   "metadata": {},
   "outputs": [],
   "source": [
    "yoshi_image = face_recognition.load_image_file(\"Training_images/YOSHITA SHAW.jpg\")\n",
    "yoshi_encoding = face_recognition.face_encodings(yoshi_image)[0]\n",
    "\n",
    "kshitij_image = face_recognition.load_image_file(\"Training_images/KSHITIJ CHAUHAN.jpeg\")\n",
    "kshitij_encoding = face_recognition.face_encodings(kshitij_image)[0]\n",
    "\n",
    "kanishk_image = face_recognition.load_image_file(\"Training_images/KANISHK NAYAK.jpeg\")\n",
    "kanishk_encoding = face_recognition.face_encodings(kanishk_image)[0]\n",
    "\n",
    "riya_image = face_recognition.load_image_file(\"Training_images/RIYA KHANDELWAL.jpeg\")\n",
    "riya_encoding = face_recognition.face_encodings(riya_image)[0]\n",
    "\n",
    "rohit_image = face_recognition.load_image_file(\"Training_images/ROHIT YADAV.jpeg\")\n",
    "rohit_encoding = face_recognition.face_encodings(rohit_image)[0]"
   ]
  },
  {
   "cell_type": "code",
   "execution_count": 4,
   "id": "297e9cd6",
   "metadata": {},
   "outputs": [],
   "source": [
    "known_face_encoding = [\n",
    "    yoshi_encoding,\n",
    "    kshitij_encoding,\n",
    "    kanishk_encoding,\n",
    "    riya_encoding,\n",
    "    rohit_encoding\n",
    "]\n",
    "\n",
    "known_face_names = [\n",
    "    \"YOSHITA SHAW\",\n",
    "    \"KSHITIJ CHAUHAN\",\n",
    "    \"KANISHK NAYAK\",\n",
    "    \"RIYA KHANDELWAL\",\n",
    "    \"ROHIT YADAV\"\n",
    "]"
   ]
  },
  {
   "cell_type": "code",
   "execution_count": 5,
   "id": "80dcb445",
   "metadata": {},
   "outputs": [],
   "source": [
    "students = known_face_names[:]"
   ]
  },
  {
   "cell_type": "code",
   "execution_count": 6,
   "id": "5e381d97",
   "metadata": {},
   "outputs": [
    {
     "name": "stdout",
     "output_type": "stream",
     "text": [
      "Face encodings detected\n",
      "Marked YOSHITA SHAW's attendance on 2024-09-29 at 14-00-23\n"
     ]
    }
   ],
   "source": [
    "# Initialize the CSV file\n",
    "now = datetime.now()\n",
    "# filename = now.strftime(\"%Y-%m-%d.csv\")\n",
    "# f = open(filename, 'w', newline='')\n",
    "# lnwriter = csv.writer(f)\n",
    "# lnwriter.writerow(['Name', 'Time'])\n",
    "\n",
    "date_str = now.strftime(\"%Y-%m-%d\")\n",
    "filename = f\"attendance_{date_str}.csv\"\n",
    "\n",
    "# Check if the file already exists to decide whether to write headers\n",
    "file_exists = os.path.isfile(filename)\n",
    "\n",
    "# Start video capture\n",
    "video_capture = cv2.VideoCapture(0)\n",
    "\n",
    "# Open the CSV file in append mode\n",
    "with open(filename, 'a', newline='') as f:\n",
    "    lnwriter = csv.writer(f)\n",
    "\n",
    "    # Write headers only if the file is new\n",
    "    if not file_exists:\n",
    "        lnwriter.writerow(['Name', 'Date', 'Time'])\n",
    "\n",
    "    # Flag to indicate if attendance is marked\n",
    "    attendance_marked = False\n",
    "\n",
    "    while not attendance_marked:\n",
    "        # Capture frame-by-frame\n",
    "        ret, frame = video_capture.read()\n",
    "        if not ret:\n",
    "            print(\"Failed to grab frame\")\n",
    "            break\n",
    "\n",
    "        # Resize frame to 1/4 size for faster face recognition processing\n",
    "        small_frame = cv2.resize(frame, (0, 0), fx=0.25, fy=0.25)\n",
    "        rgb_small_frame = small_frame[:, :, ::-1]  # Convert BGR to RGB\n",
    "\n",
    "        # Detect face locations\n",
    "        face_locations = face_recognition.face_locations(rgb_small_frame)\n",
    "        face_encodings = []  # Initialize face_encodings to avoid NameError later\n",
    "\n",
    "        if face_locations:\n",
    "            # Detect face encodings based on detected face locations\n",
    "            face_encodings = face_recognition.face_encodings(rgb_small_frame, known_face_locations=face_locations)\n",
    "\n",
    "            if face_encodings:\n",
    "                print(\"Face encodings detected\")\n",
    "\n",
    "        face_names = []  # Reset face names for this frame\n",
    "        for face_encoding in face_encodings:\n",
    "            matches = face_recognition.compare_faces(known_face_encoding, face_encoding)\n",
    "            name = \"\"\n",
    "            face_distance = face_recognition.face_distance(known_face_encoding, face_encoding)\n",
    "            best_match_index = np.argmin(face_distance)\n",
    "\n",
    "            if matches[best_match_index]:\n",
    "                name = known_face_names[best_match_index]\n",
    "\n",
    "            face_names.append(name)\n",
    "\n",
    "            # If attendance is not yet marked for the detected person\n",
    "            if name in known_face_names and not attendance_marked:\n",
    "                attendance_marked = True  # Set the flag to true to stop capturing\n",
    "                current_time = now.strftime(\"%H-%M-%S\")\n",
    "                lnwriter.writerow([name, date_str, current_time])  # Write to CSV\n",
    "                print(f\"Marked {name}'s attendance on {date_str} at {current_time}\")\n",
    "\n",
    "        # Display the resulting frame with the detected name\n",
    "        for (top, right, bottom, left), name in zip(face_locations, face_names):\n",
    "            # Draw a box around the face\n",
    "            cv2.rectangle(frame, (left, top), (right, bottom), (0, 255, 0), 2)\n",
    "\n",
    "            # Draw a label with the name below the face\n",
    "            cv2.putText(frame, name, (left, bottom + 20), cv2.FONT_HERSHEY_SIMPLEX, 0.5, (255, 255, 255), 2)\n",
    "\n",
    "        # Display the resulting frame\n",
    "        cv2.imshow(\"Attendance System\", frame)\n",
    "\n",
    "        # Break the loop if 'q' is pressed\n",
    "        if cv2.waitKey(1) & 0xFF == ord('q'):\n",
    "            break"
   ]
  },
  {
   "cell_type": "raw",
   "id": "326f9f7f",
   "metadata": {},
   "source": [
    "video_capture .release()\n",
    "cv2.destroyAllWindows()\n",
    "#f.close()"
   ]
  }
 ],
 "metadata": {
  "kernelspec": {
   "display_name": "Python 3 (ipykernel)",
   "language": "python",
   "name": "python3"
  },
  "language_info": {
   "codemirror_mode": {
    "name": "ipython",
    "version": 3
   },
   "file_extension": ".py",
   "mimetype": "text/x-python",
   "name": "python",
   "nbconvert_exporter": "python",
   "pygments_lexer": "ipython3",
   "version": "3.9.12"
  }
 },
 "nbformat": 4,
 "nbformat_minor": 5
}
